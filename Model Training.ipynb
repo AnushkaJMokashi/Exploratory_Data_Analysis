{
 "cells": [
  {
   "cell_type": "code",
   "execution_count": 1,
   "id": "5e6e8574",
   "metadata": {},
   "outputs": [],
   "source": [
    "import pandas as pd\n",
    "import numpy as np"
   ]
  },
  {
   "cell_type": "code",
   "execution_count": 2,
   "id": "98501ac3",
   "metadata": {},
   "outputs": [],
   "source": [
    "dataset = pd.read_csv('X_train_selected_fetures.csv')"
   ]
  },
  {
   "cell_type": "code",
   "execution_count": 4,
   "id": "01052697",
   "metadata": {},
   "outputs": [],
   "source": [
    "X_train = dataset"
   ]
  },
  {
   "cell_type": "code",
   "execution_count": 5,
   "id": "d74a938c",
   "metadata": {},
   "outputs": [
    {
     "ename": "NameError",
     "evalue": "name 'Y_train' is not defined",
     "output_type": "error",
     "traceback": [
      "\u001b[1;31m---------------------------------------------------------------------------\u001b[0m",
      "\u001b[1;31mNameError\u001b[0m                                 Traceback (most recent call last)",
      "Cell \u001b[1;32mIn [5], line 6\u001b[0m\n\u001b[0;32m      3\u001b[0m \u001b[38;5;28;01mfrom\u001b[39;00m \u001b[38;5;21;01msklearn\u001b[39;00m\u001b[38;5;21;01m.\u001b[39;00m\u001b[38;5;21;01mmetrics\u001b[39;00m \u001b[38;5;28;01mimport\u001b[39;00m mean_absolute_percentage_error\n\u001b[0;32m      5\u001b[0m model_SVR \u001b[38;5;241m=\u001b[39m svm\u001b[38;5;241m.\u001b[39mSVR()\n\u001b[1;32m----> 6\u001b[0m model_SVR\u001b[38;5;241m.\u001b[39mfit(X_train,\u001b[43mY_train\u001b[49m)\n\u001b[0;32m      7\u001b[0m Y_pred \u001b[38;5;241m=\u001b[39m model_SVR\u001b[38;5;241m.\u001b[39mpredict(X_valid)\n\u001b[0;32m      9\u001b[0m \u001b[38;5;28mprint\u001b[39m(mean_absolute_percentage_error(Y_valid, Y_pred))\n",
      "\u001b[1;31mNameError\u001b[0m: name 'Y_train' is not defined"
     ]
    }
   ],
   "source": [
    "from sklearn import svm\n",
    "from sklearn.svm import SVC\n",
    "from sklearn.metrics import mean_absolute_percentage_error\n",
    " \n",
    "model_SVR = svm.SVR()\n",
    "model_SVR.fit(X_train,Y_train)\n",
    "Y_pred = model_SVR.predict(X_valid)\n",
    " \n",
    "print(mean_absolute_percentage_error(Y_valid, Y_pred))"
   ]
  },
  {
   "cell_type": "code",
   "execution_count": null,
   "id": "97da8550",
   "metadata": {},
   "outputs": [],
   "source": []
  }
 ],
 "metadata": {
  "kernelspec": {
   "display_name": "Python 3 (ipykernel)",
   "language": "python",
   "name": "python3"
  },
  "language_info": {
   "codemirror_mode": {
    "name": "ipython",
    "version": 3
   },
   "file_extension": ".py",
   "mimetype": "text/x-python",
   "name": "python",
   "nbconvert_exporter": "python",
   "pygments_lexer": "ipython3",
   "version": "3.10.4"
  }
 },
 "nbformat": 4,
 "nbformat_minor": 5
}
